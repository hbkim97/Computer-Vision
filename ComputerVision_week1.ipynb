{
 "cells": [
  {
   "cell_type": "code",
   "execution_count": 1,
   "metadata": {},
   "outputs": [],
   "source": [
    "from IPython.display import Image"
   ]
  },
  {
   "cell_type": "markdown",
   "metadata": {},
   "source": [
    "# <center>ComputerVision</center>\n",
    "\n",
    "## **개요**\n",
    "> 컴퓨터비전 첫 수업에서 정리할 내용"
   ]
  },
  {
   "cell_type": "markdown",
   "metadata": {},
   "source": [
    "* 목차\n",
    "1.  \n",
    "2.   \n",
    "3.   \n"
   ]
  },
  {
   "attachments": {},
   "cell_type": "markdown",
   "metadata": {},
   "source": [
    "## 1. 가상환경 **Anaconda**\n",
    "---\n",
    "### 1) 파이썬 패키지 관리 프로그램\n",
    "> 개발환경 설정을 쉽게 해결 가능하다\n",
    "python의 장점이자 단점은 오픈소스를 가져오는 것이다. 그래서 개발환경이 정말 천차만별이다. \n",
    "때문에 가상환경을 만들어줌으로써 개발하기 편한 환경으로 만들어준다.\n",
    ">> 비슷한 역할을 하는 pip라는 관리 프로그램도 있다.\n",
    "  \n",
    "### 2) conda 명령어\n",
    "> anaconda 프롬프트창에서 입력하는 명령어이다.  \n",
    "\n",
    "1. 아나콘다 버전확인  \n",
    "``` conda --version ```\n",
    "\n",
    "2. 아나콘다 업데이트  \n",
    "``` conda update conda```\n",
    "  \n",
    "3. 가상환경 생성  \n",
    "``` conda create --name _환경이름_ python=_버전(3.7)_ ``` \n",
    "\n",
    "4. 설치된 가상환경 리스트 확인  \n",
    "```conda info --envs```\n",
    "\n",
    "5. 가상환경 활성화  \n",
    "``` conda activate _환경이름_ ```\n",
    "\n",
    "6. 가상환경 비활성화  \n",
    "``` conda deactivate ```\n",
    "\n",
    "7. 가상환경 설치 package 확인  \n",
    "``` conda list --name _환경이름_```\n",
    "\n",
    "8. 가상환경 package의 conda 이용 설치 (예 : tensorflow)  \n",
    "``` conda install -c anaconda tensorflow  ```  \n",
    "``` conda install -c anaconda tensorflow-gpu ```\n",
    "\n",
    "9. 가상환경 package의 pip 이용 설치 (예 : scipy)  \n",
    "``` pip install scipy```\n",
    "\n",
    "10. 가상환경 삭제   \n",
    "``` conda remove --name _환경이름_ --all```\n",
    "\n",
    "11. openCV 설치  \n",
    "``` pip install opencv-python ```  \n",
    "``` pip install opencv-contrib-python ```\n",
    "\n",
    "### 3) Pycham 가상환경 설정\n",
    "1. Pycharm 실행 후 새 프로젝트 만들기\n",
    "    + Create New Project\n",
    "2. 생성된 프로젝트에 새 .py 파일 만들기\n",
    "    + File > New\n",
    "![made_py_file](img/Pycharm_made_py_file.png)\n",
    "3. 생성한 가상환경 선택\n",
    "    + File -> Settings -> Project:<프로젝트 이름> -> Python Interpreter\n",
    "    ![Interpreter](img/Pycharm_PythonInterpreter.png)\n",
    "    ![Interpreter2](img/Pycharm_PythonInterpreter2.png)\n",
    "4. 새롭게 만든 .py 파일에 코드 작성\n",
    "5. 소스코드 Run\n",
    "\n",
    "### 4) Debugging\n",
    "+ Run -> Debug (마우스 우클릭 후 Debug)\n",
    "    > 디버깅 단축키 지정 : File > Settings > Keymap > 익숙한 것 선택\n",
    "![Debug](img/Pycharm_debug.png)\n",
    "\n",
    "### 5) Jupyter Notebook 단축키\n",
    "![shortcut](img/Jupyter_Notebook_shortcut.png)"
   ]
  },
  {
   "cell_type": "markdown",
   "metadata": {},
   "source": [
    "![title](img/Pycharm_PythonInterpreter.png)"
   ]
  },
  {
   "cell_type": "markdown",
   "metadata": {},
   "source": []
  },
  {
   "cell_type": "markdown",
   "metadata": {},
   "source": []
  },
  {
   "cell_type": "markdown",
   "metadata": {},
   "source": []
  },
  {
   "cell_type": "markdown",
   "metadata": {},
   "source": []
  }
 ],
 "metadata": {
  "kernelspec": {
   "display_name": "Python 3",
   "language": "python",
   "name": "python3"
  },
  "language_info": {
   "codemirror_mode": {
    "name": "ipython",
    "version": 3
   },
   "file_extension": ".py",
   "mimetype": "text/x-python",
   "name": "python",
   "nbconvert_exporter": "python",
   "pygments_lexer": "ipython3",
   "version": "3.8.5"
  }
 },
 "nbformat": 4,
 "nbformat_minor": 4
}
